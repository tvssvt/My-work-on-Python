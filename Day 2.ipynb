{
 "cells": [
  {
   "cell_type": "code",
   "execution_count": 1,
   "id": "46187cc5",
   "metadata": {},
   "outputs": [],
   "source": [
    "import random"
   ]
  },
  {
   "cell_type": "code",
   "execution_count": 34,
   "id": "af696871",
   "metadata": {},
   "outputs": [
    {
     "name": "stdout",
     "output_type": "stream",
     "text": [
      "your day will be too good your lucky number is 5.\n",
      "2\n",
      "your day will be too good\n"
     ]
    }
   ],
   "source": [
    "x = random.randint(1,100)\n",
    "y = random.randint(1,3)\n",
    "z = \" \"\n",
    "\n",
    "if y == 1:\n",
    "    z = \"your day will be good\"\n",
    "elif y == 2:\n",
    "    z = \"your day will be too good\"\n",
    "elif y == 3:\n",
    "    z = \"your day wil be very good\"\n",
    "\n",
    "print(f\"{z} your lucky number is {x}.\")\n",
    "print(y)\n",
    "print(z)"
   ]
  }
 ],
 "metadata": {
  "kernelspec": {
   "display_name": "Python 3 (ipykernel)",
   "language": "python",
   "name": "python3"
  },
  "language_info": {
   "codemirror_mode": {
    "name": "ipython",
    "version": 3
   },
   "file_extension": ".py",
   "mimetype": "text/x-python",
   "name": "python",
   "nbconvert_exporter": "python",
   "pygments_lexer": "ipython3",
   "version": "3.9.13"
  }
 },
 "nbformat": 4,
 "nbformat_minor": 5
}
